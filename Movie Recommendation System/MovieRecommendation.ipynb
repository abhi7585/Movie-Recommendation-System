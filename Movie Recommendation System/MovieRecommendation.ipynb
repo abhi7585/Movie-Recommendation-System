{
 "cells": [
  {
   "cell_type": "markdown",
   "metadata": {},
   "source": [
    "## Importing essential libraries"
   ]
  },
  {
   "cell_type": "code",
   "execution_count": null,
   "metadata": {},
   "outputs": [],
   "source": [
    "import pandas as pd\n",
    "from sklearn.feature_extraction.text import CountVectorizer\n",
    "from sklearn.metrics.pairwise import cosine_similarity"
   ]
  },
  {
   "cell_type": "markdown",
   "metadata": {},
   "source": [
    "## Reading csv file"
   ]
  },
  {
   "cell_type": "code",
   "execution_count": 2,
   "metadata": {},
   "outputs": [],
   "source": [
    "df = pd.read_csv(\"movie_dataset.csv\")"
   ]
  },
  {
   "cell_type": "markdown",
   "metadata": {},
   "source": [
    "## Taking the movie name based on which recommendation should be shown"
   ]
  },
  {
   "cell_type": "code",
   "execution_count": 4,
   "metadata": {},
   "outputs": [
    {
     "name": "stdin",
     "output_type": "stream",
     "text": [
      "Enter movie name:  Hellboy\n"
     ]
    }
   ],
   "source": [
    "movie_name= input(\"Enter movie name: \")"
   ]
  },
  {
   "cell_type": "code",
   "execution_count": 5,
   "metadata": {},
   "outputs": [
    {
     "name": "stdout",
     "output_type": "stream",
     "text": [
      "<class 'pandas.core.frame.DataFrame'>\n",
      "RangeIndex: 4803 entries, 0 to 4802\n",
      "Data columns (total 24 columns):\n",
      " #   Column                Non-Null Count  Dtype  \n",
      "---  ------                --------------  -----  \n",
      " 0   index                 4803 non-null   int64  \n",
      " 1   budget                4803 non-null   int64  \n",
      " 2   genres                4775 non-null   object \n",
      " 3   homepage              1712 non-null   object \n",
      " 4   id                    4803 non-null   int64  \n",
      " 5   keywords              4391 non-null   object \n",
      " 6   original_language     4803 non-null   object \n",
      " 7   original_title        4803 non-null   object \n",
      " 8   overview              4800 non-null   object \n",
      " 9   popularity            4803 non-null   float64\n",
      " 10  production_companies  4803 non-null   object \n",
      " 11  production_countries  4803 non-null   object \n",
      " 12  release_date          4802 non-null   object \n",
      " 13  revenue               4803 non-null   int64  \n",
      " 14  runtime               4801 non-null   float64\n",
      " 15  spoken_languages      4803 non-null   object \n",
      " 16  status                4803 non-null   object \n",
      " 17  tagline               3959 non-null   object \n",
      " 18  title                 4803 non-null   object \n",
      " 19  vote_average          4803 non-null   float64\n",
      " 20  vote_count            4803 non-null   int64  \n",
      " 21  cast                  4760 non-null   object \n",
      " 22  crew                  4803 non-null   object \n",
      " 23  director              4773 non-null   object \n",
      "dtypes: float64(3), int64(5), object(16)\n",
      "memory usage: 900.7+ KB\n"
     ]
    }
   ],
   "source": [
    "df.info()"
   ]
  },
  {
   "cell_type": "code",
   "execution_count": 7,
   "metadata": {},
   "outputs": [
    {
     "data": {
      "text/plain": [
       "Index(['index', 'budget', 'genres', 'homepage', 'id', 'keywords',\n",
       "       'original_language', 'original_title', 'overview', 'popularity',\n",
       "       'production_companies', 'production_countries', 'release_date',\n",
       "       'revenue', 'runtime', 'spoken_languages', 'status', 'tagline', 'title',\n",
       "       'vote_average', 'vote_count', 'cast', 'crew', 'director'],\n",
       "      dtype='object')"
      ]
     },
     "execution_count": 7,
     "metadata": {},
     "output_type": "execute_result"
    }
   ],
   "source": [
    "df.columns"
   ]
  },
  {
   "cell_type": "markdown",
   "metadata": {},
   "source": [
    "#### features are the attributes which will be used to compare the movies based on the similarities movie will be recommended."
   ]
  },
  {
   "cell_type": "code",
   "execution_count": 12,
   "metadata": {},
   "outputs": [],
   "source": [
    "features = ['genres', 'director', 'keywords','cast', 'popularity']"
   ]
  },
  {
   "cell_type": "code",
   "execution_count": 13,
   "metadata": {},
   "outputs": [],
   "source": [
    "for f in features:\n",
    "    df[f] = df[f].fillna('') # Filling all the Null value to empty string"
   ]
  },
  {
   "cell_type": "code",
   "execution_count": 16,
   "metadata": {},
   "outputs": [],
   "source": [
    "def combineFeatures(row):\n",
    "    return row['genres'] + \" \" + row['director'] + \" \" + row['keywords'] + \" \" + row['cast'] + \" \" + str(row['popularity'])\n",
    "\n",
    "df['combineFeatures'] = df.apply(combineFeatures, axis = 1)"
   ]
  },
  {
   "cell_type": "markdown",
   "metadata": {},
   "source": [
    "#### This combineFeatures will be used to calculate the CountVectorizer and then using cosine similarity will be compared and thus the one which has higgest value will be recommended."
   ]
  },
  {
   "cell_type": "code",
   "execution_count": 17,
   "metadata": {},
   "outputs": [
    {
     "data": {
      "text/plain": [
       "0       Action Adventure Fantasy Science Fiction James...\n",
       "1       Adventure Fantasy Action Gore Verbinski ocean ...\n",
       "2       Action Adventure Crime Sam Mendes spy based on...\n",
       "3       Action Crime Drama Thriller Christopher Nolan ...\n",
       "4       Action Adventure Science Fiction Andrew Stanto...\n",
       "                              ...                        \n",
       "4798    Action Crime Thriller Robert Rodriguez united ...\n",
       "4799    Comedy Romance Edward Burns  Edward Burns Kerr...\n",
       "4800    Comedy Drama Romance TV Movie Scott Smith date...\n",
       "4801     Daniel Hsia  Daniel Henney Eliza Coupe Bill P...\n",
       "4802    Documentary Brian Herzlinger obsession camcord...\n",
       "Name: combineFeatures, Length: 4803, dtype: object"
      ]
     },
     "execution_count": 17,
     "metadata": {},
     "output_type": "execute_result"
    }
   ],
   "source": [
    "df['combineFeatures']"
   ]
  },
  {
   "cell_type": "code",
   "execution_count": 20,
   "metadata": {},
   "outputs": [],
   "source": [
    "cv = CountVectorizer()\n",
    "count_matrix = cv.fit_transform(df['combineFeatures'])\n",
    "cosine_sim = cosine_similarity(count_matrix)"
   ]
  },
  {
   "cell_type": "markdown",
   "metadata": {},
   "source": [
    "#### cosine_sim is matrix of the values compared based on the fearures. Values which are closer to 1 are most likely to be recommended to the user"
   ]
  },
  {
   "cell_type": "code",
   "execution_count": 24,
   "metadata": {},
   "outputs": [
    {
     "data": {
      "text/plain": [
       "array([[1.        , 0.09847982, 0.1114172 , ..., 0.        , 0.        ,\n",
       "        0.        ],\n",
       "       [0.09847982, 1.        , 0.07071068, ..., 0.03466876, 0.        ,\n",
       "        0.        ],\n",
       "       [0.1114172 , 0.07071068, 1.        , ..., 0.        , 0.10327956,\n",
       "        0.        ],\n",
       "       ...,\n",
       "       [0.        , 0.03466876, 0.        , ..., 1.        , 0.        ,\n",
       "        0.04089304],\n",
       "       [0.        , 0.        , 0.10327956, ..., 0.        , 1.        ,\n",
       "        0.        ],\n",
       "       [0.        , 0.        , 0.        , ..., 0.04089304, 0.        ,\n",
       "        1.        ]])"
      ]
     },
     "execution_count": 24,
     "metadata": {},
     "output_type": "execute_result"
    }
   ],
   "source": [
    "cosine_sim"
   ]
  },
  {
   "cell_type": "code",
   "execution_count": 25,
   "metadata": {},
   "outputs": [],
   "source": [
    "movie_index = df[df.title == movie_name][\"index\"].values[0]\n",
    "similar_movies =  list(enumerate(cosine_sim[movie_index]))\n",
    "sorted_similar_movies = sorted(similar_movies,key=lambda x:x[1],reverse=True)"
   ]
  },
  {
   "cell_type": "markdown",
   "metadata": {},
   "source": [
    "#### sorted_similar_movies gives all the recommended movies in order. Now using the indexs we can access the title of the movies. "
   ]
  },
  {
   "cell_type": "code",
   "execution_count": 33,
   "metadata": {},
   "outputs": [
    {
     "name": "stdout",
     "output_type": "stream",
     "text": [
      "(728, 1.0000000000000007)\n",
      "(420, 0.5773502691896258)\n",
      "(864, 0.31426968052735443)\n",
      "(51, 0.2810913475705226)\n",
      "(4401, 0.2581988897471611)\n",
      "(1428, 0.23094010767585035)\n",
      "(1230, 0.22222222222222224)\n",
      "(1932, 0.214422506967559)\n",
      "(1286, 0.21081851067789195)\n",
      "(1192, 0.20100756305184245)\n"
     ]
    },
    {
     "data": {
      "text/plain": [
       "[None, None, None, None, None, None, None, None, None, None]"
      ]
     },
     "execution_count": 33,
     "metadata": {},
     "output_type": "execute_result"
    }
   ],
   "source": [
    "[print(sorted_similar_movies[x]) for x in range(10)]"
   ]
  },
  {
   "cell_type": "code",
   "execution_count": 42,
   "metadata": {},
   "outputs": [],
   "source": [
    "def getTitle(index):\n",
    "    return df[df.index == index]['title'].values[0]"
   ]
  },
  {
   "cell_type": "code",
   "execution_count": 60,
   "metadata": {},
   "outputs": [
    {
     "name": "stdin",
     "output_type": "stream",
     "text": [
      "Enter the number of movies you want to be recommended:  10\n"
     ]
    }
   ],
   "source": [
    "n = int(input(\"Enter the number of movies you want to be recommended: \"))"
   ]
  },
  {
   "cell_type": "code",
   "execution_count": 61,
   "metadata": {},
   "outputs": [
    {
     "name": "stdout",
     "output_type": "stream",
     "text": [
      "Hellboy\n",
      "Hellboy II: The Golden Army\n",
      "Blade II\n",
      "Pacific Rim\n",
      "The Helix... Loaded\n",
      "Superhero Movie\n",
      "The Shadow\n",
      "Sheena\n",
      "Snowpiercer\n",
      "Spawn\n"
     ]
    }
   ],
   "source": [
    "for element in sorted_similar_movies:\n",
    "    print(getTitle(element[0]))\n",
    "    n -= 1\n",
    "    if n==0:\n",
    "        break"
   ]
  },
  {
   "cell_type": "code",
   "execution_count": null,
   "metadata": {},
   "outputs": [],
   "source": []
  }
 ],
 "metadata": {
  "kernelspec": {
   "display_name": "Python 3",
   "language": "python",
   "name": "python3"
  },
  "language_info": {
   "codemirror_mode": {
    "name": "ipython",
    "version": 3
   },
   "file_extension": ".py",
   "mimetype": "text/x-python",
   "name": "python",
   "nbconvert_exporter": "python",
   "pygments_lexer": "ipython3",
   "version": "3.7.6"
  }
 },
 "nbformat": 4,
 "nbformat_minor": 4
}
